{
 "cells": [
  {
   "cell_type": "code",
   "execution_count": null,
   "id": "2de5a9f0",
   "metadata": {},
   "outputs": [],
   "source": [
    "from pyspoc import Calculator, Config"
   ]
  },
  {
   "cell_type": "code",
   "execution_count": null,
   "id": "95d5e271",
   "metadata": {},
   "outputs": [],
   "source": [
    "from pathlib import Path\n",
    "import os\n",
    "import numpy as np\n",
    "import pandas as pd\n",
    "# Add the parent of the current script's parent to sys.path\n",
    "project_root = Path('./').resolve().parents[1]"
   ]
  },
  {
   "cell_type": "code",
   "execution_count": null,
   "id": "d912b7d5",
   "metadata": {},
   "outputs": [],
   "source": [
    "new_mod_path = os.path.join(project_root,'summary_stats','feature_covariance_stats.py')"
   ]
  },
  {
   "cell_type": "code",
   "execution_count": null,
   "id": "5263624f",
   "metadata": {},
   "outputs": [],
   "source": [
    "my_config_yaml = f\"\"\"\n",
    "Statistics:\n",
    "    pyspoc.statistics.basic:\n",
    "        Covariance:\n",
    "            schemes:\n",
    "                empirical:\n",
    "                    estimator: EmpiricalCovariance\n",
    "Reducers:\n",
    "  {new_mod_path}:\n",
    "    MaxCovPerFeature:\n",
    "        schemes:\n",
    "          scheme_1:\n",
    "            stats: \n",
    "              - max\n",
    "              - min\n",
    "              - median\n",
    "\"\"\"\n",
    "\n",
    "my_config_name = \"new_config\"\n",
    "cfg = Config.from_yaml(my_config_name, my_config_yaml)"
   ]
  },
  {
   "cell_type": "code",
   "execution_count": null,
   "id": "148e39a8",
   "metadata": {},
   "outputs": [],
   "source": [
    "## right now just do one --> expand code to parse all the objects in the synthetic_data dir\n",
    "\n",
    "filename_dict = {}\n",
    "\n",
    "for dataset_type in ['isotropic_gaussian_cloud', 'randomCov_gaussian_cloud']:\n",
    "\n",
    "    n_sample = 1000\n",
    "    n_feature = 10\n",
    "    base_dir = os.path.join(project_root,'data','synthetic_data',dataset_type,f'N{n_sample}_P{n_feature}')\n",
    "    # subfolder_path = os.path.join(base_dir,'k3_std1.0')\n",
    "    subfolder_path = base_dir\n",
    "\n",
    "    meta_file = os.path.join(subfolder_path, \"meta.csv\")\n",
    "    meta_df = pd.read_csv(meta_file)\n",
    "\n",
    "    ## change this to take sample_num from meta_df:\n",
    "    filename_dict[dataset_type] = {v.split('_')[0] : os.path.join(subfolder_path,v) for v in meta_df['filename']}"
   ]
  },
  {
   "cell_type": "code",
   "execution_count": null,
   "id": "c7b46059",
   "metadata": {},
   "outputs": [],
   "source": [
    "flat = {f\"{k}_{sk}\": sv for k, v in filename_dict.items() for sk, sv in v.items()}"
   ]
  },
  {
   "cell_type": "code",
   "execution_count": null,
   "id": "d1c30a83",
   "metadata": {},
   "outputs": [],
   "source": [
    "res_dict = {}\n",
    "\n",
    "for sample_file in flat.keys():\n",
    "\n",
    "    print(sample_file)\n",
    "\n",
    "    sample_X = np.load(flat[sample_file])\n",
    "\n",
    "    calc = Calculator(sample_X)\n",
    "    calc.compute(cfg)\n",
    "    results = calc.results\n",
    "\n",
    "    res_dict[sample_file] = results"
   ]
  },
  {
   "cell_type": "code",
   "execution_count": null,
   "id": "ae6bed2e",
   "metadata": {},
   "outputs": [],
   "source": [
    "pd.concat(res_dict)"
   ]
  },
  {
   "cell_type": "code",
   "execution_count": null,
   "id": "e9b4ac83",
   "metadata": {},
   "outputs": [],
   "source": [
    "# temp_arr = np.random.normal(size=(10,10))\n",
    "# mask = ~np.eye(temp_arr.shape[0], dtype=bool)\n",
    "# off_diag_matrix = np.where(mask, temp_arr, np.nan)"
   ]
  },
  {
   "cell_type": "code",
   "execution_count": null,
   "id": "12b198d0",
   "metadata": {},
   "outputs": [],
   "source": [
    "# sample_file = 'isotropic_gaussian_cloud_sample0'\n",
    "# sample_X = np.load(flat[sample_file])\n",
    "\n",
    "# calc = Calculator(sample_X)\n",
    "# calc.compute(cfg)\n",
    "# results = calc.results.copy()\n",
    "\n",
    "# --------------------\n",
    "\n",
    "# sample_file = 'isotropic_gaussian_cloud_sample1'\n",
    "# sample_X = np.load(flat[sample_file])\n",
    "\n",
    "# calc = Calculator(sample_X)\n",
    "# calc.compute(cfg)\n",
    "# results = calc.results.copy()\n"
   ]
  },
  {
   "cell_type": "code",
   "execution_count": null,
   "id": "5f5c00c3",
   "metadata": {},
   "outputs": [],
   "source": [
    "# ReducedStatistics:\n",
    "#   pyspoc.rstatistics.pca:\n",
    "#     PCAEigenVectors:\n",
    "#       schemes:\n",
    "#         first_two:\n",
    "#           principal_vectors:\n",
    "#             - 1\n",
    "#             - 2"
   ]
  }
 ],
 "metadata": {
  "kernelspec": {
   "display_name": "pyspoc_env",
   "language": "python",
   "name": "python3"
  },
  "language_info": {
   "codemirror_mode": {
    "name": "ipython",
    "version": 3
   },
   "file_extension": ".py",
   "mimetype": "text/x-python",
   "name": "python",
   "nbconvert_exporter": "python",
   "pygments_lexer": "ipython3",
   "version": "3.12.11"
  }
 },
 "nbformat": 4,
 "nbformat_minor": 5
}
