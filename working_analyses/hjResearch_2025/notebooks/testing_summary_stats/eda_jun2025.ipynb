{
 "cells": [
  {
   "cell_type": "code",
   "execution_count": null,
   "id": "f14630de",
   "metadata": {},
   "outputs": [],
   "source": [
    "from pyspoc import Calculator, Config"
   ]
  },
  {
   "cell_type": "code",
   "execution_count": null,
   "id": "c1edf945",
   "metadata": {},
   "outputs": [],
   "source": [
    "from pathlib import Path\n",
    "import os\n",
    "import numpy as np\n",
    "import pandas as pd\n",
    "# Add the parent of the current script's parent to sys.path\n",
    "project_root = Path('./').resolve().parents[1]"
   ]
  },
  {
   "cell_type": "code",
   "execution_count": null,
   "id": "6411b3f5",
   "metadata": {},
   "outputs": [],
   "source": [
    "new_mod_path = os.path.join(project_root,'summary_stats','distance_distrib_stats.py')"
   ]
  },
  {
   "cell_type": "code",
   "execution_count": null,
   "id": "e6916553",
   "metadata": {},
   "outputs": [],
   "source": [
    "my_config_yaml = f\"\"\"\n",
    "ReducedStatistics:\n",
    "  {new_mod_path}:\n",
    "    DistanceDistributionBasicSummarize:\n",
    "      schemes:\n",
    "        scheme_1:\n",
    "          metric: correlation\n",
    "          stats: \n",
    "            - mean\n",
    "            - median\n",
    "            - iqr\n",
    "          point: global_mean_centroid\n",
    "    DistanceDistributionModesSummarize:\n",
    "      schemes:\n",
    "        scheme_1:\n",
    "          metric: correlation\n",
    "          point: global_mean_centroid\n",
    "          type: kde\n",
    "        scheme_2:\n",
    "          metric: correlation\n",
    "          point: global_mean_centroid\n",
    "          type: max_line_intersections\n",
    "\"\"\"\n",
    "my_config_name = \"new_config\"\n",
    "cfg = Config.from_yaml(my_config_name, my_config_yaml)"
   ]
  },
  {
   "cell_type": "code",
   "execution_count": null,
   "id": "70dbbafc",
   "metadata": {},
   "outputs": [],
   "source": [
    "## right now just do one --> expand code to parse all the objects in the synthetic_data dir\n",
    "\n",
    "filename_dict = {}\n",
    "\n",
    "for dataset_type in ['isotropic_gaussian_cloud', 'randomCov_gaussian_cloud']:\n",
    "\n",
    "    n_sample = 1000\n",
    "    n_feature = 10\n",
    "    base_dir = os.path.join(project_root,'data','synthetic_data',dataset_type,f'N{n_sample}_P{n_feature}')\n",
    "    # subfolder_path = os.path.join(base_dir,'k3_std1.0')\n",
    "    subfolder_path = base_dir\n",
    "\n",
    "    meta_file = os.path.join(subfolder_path, \"meta.csv\")\n",
    "    meta_df = pd.read_csv(meta_file)\n",
    "\n",
    "    ## change this to take sample_num from meta_df:\n",
    "    filename_dict[dataset_type] = {v.split('_')[0] : os.path.join(subfolder_path,v) for v in meta_df['filename']}"
   ]
  },
  {
   "cell_type": "code",
   "execution_count": null,
   "id": "7d510ccf",
   "metadata": {},
   "outputs": [],
   "source": [
    "flat = {f\"{k}_{sk}\": sv for k, v in fildename_dict.items() for sk, sv in v.items()}"
   ]
  },
  {
   "cell_type": "code",
   "execution_count": null,
   "id": "b8976cc7",
   "metadata": {},
   "outputs": [],
   "source": [
    "res_dict = {}\n",
    "\n",
    "for sample_file in flat.keys():\n",
    "\n",
    "    sample_X = np.load(flat[sample_file])\n",
    "\n",
    "    calc = Calculator(sample_X)\n",
    "    calc.compute(cfg)\n",
    "    results = calc.results\n",
    "\n",
    "    res_dict[sample_file] = results"
   ]
  },
  {
   "cell_type": "code",
   "execution_count": null,
   "id": "d2d1afc8",
   "metadata": {},
   "outputs": [],
   "source": [
    "pd.concat(res_dict)\n"
   ]
  },
  {
   "cell_type": "markdown",
   "id": "0e24d36c",
   "metadata": {},
   "source": [
    "## some links/resources:\n",
    "https://time-series-features.gitbook.io/pyspi/installing-and-using-pyspi/usage/walkthrough-tutorials/neuroimaging-fmri-time-series#id-4.-running-pyspi-for-multiple-datasets"
   ]
  }
 ],
 "metadata": {
  "kernelspec": {
   "display_name": "pyspoc_env",
   "language": "python",
   "name": "python3"
  },
  "language_info": {
   "codemirror_mode": {
    "name": "ipython",
    "version": 3
   },
   "file_extension": ".py",
   "mimetype": "text/x-python",
   "name": "python",
   "nbconvert_exporter": "python",
   "pygments_lexer": "ipython3",
   "version": "3.12.11"
  }
 },
 "nbformat": 4,
 "nbformat_minor": 5
}
