{
 "cells": [
  {
   "cell_type": "code",
   "execution_count": null,
   "id": "a55030df",
   "metadata": {},
   "outputs": [],
   "source": [
    "import pyspoc"
   ]
  },
  {
   "cell_type": "code",
   "execution_count": null,
   "id": "b22963e2",
   "metadata": {},
   "outputs": [],
   "source": [
    "# TODO CHECK THESE IMPORT FLAGS AT SOME POINT\n",
    "# import pyyaml - flag\n",
    "# import jpype1 - flag\n",
    "# import cdt - flag\n",
    "# import oct2py - flag\n",
    "# import precommit - flag"
   ]
  },
  {
   "cell_type": "code",
   "execution_count": null,
   "id": "a17eec86",
   "metadata": {},
   "outputs": [],
   "source": [
    "## check if pyspoc is in path\n",
    "import sys\n",
    "print(sys.executable)\n",
    "print(sys.path)"
   ]
  },
  {
   "cell_type": "code",
   "execution_count": null,
   "id": "5a1a6d41",
   "metadata": {},
   "outputs": [],
   "source": [
    "# backup to import library\n",
    "\n",
    "# import sys\n",
    "# from pathlib import Path\n",
    "\n",
    "# project_root = Path(__file__).resolve().parent.parent  # adjust based on notebook depth\n",
    "# if str(project_root) not in sys.path:\n",
    "#     sys.path.insert(0, str(project_root))"
   ]
  },
  {
   "cell_type": "code",
   "execution_count": null,
   "id": "96590f49",
   "metadata": {},
   "outputs": [],
   "source": [
    "# backup check for import pyspoc\n",
    "\n",
    "# import importlib.util\n",
    "# import sys\n",
    "# import pathlib\n",
    "\n",
    "# path = pathlib.Path(ADD_PATH)\n",
    "# spec = importlib.util.spec_from_file_location(\"pyspoc\", str(path))\n",
    "# pyspoc = importlib.util.module_from_spec(spec)\n",
    "# sys.modules[\"pyspoc\"] = pyspoc\n",
    "# spec.loader.exec_module(pyspoc)\n",
    "# print(pyspoc)"
   ]
  },
  {
   "cell_type": "code",
   "execution_count": null,
   "id": "803f40a0",
   "metadata": {},
   "outputs": [],
   "source": [
    "# import pyspoc"
   ]
  },
  {
   "cell_type": "code",
   "execution_count": null,
   "id": "ed5ce70e",
   "metadata": {},
   "outputs": [],
   "source": [
    "# import other helper libraries\n",
    "import pandas as pd\n",
    "import numpy as np"
   ]
  },
  {
   "cell_type": "code",
   "execution_count": null,
   "id": "7c4118f0",
   "metadata": {},
   "outputs": [],
   "source": [
    "# generate a random dataframe\n",
    "df = pd.DataFrame(np.random.randint(0,100,size=(100, 4)), columns=list('ABCD'))"
   ]
  },
  {
   "cell_type": "code",
   "execution_count": null,
   "id": "2d5f7f6a",
   "metadata": {},
   "outputs": [],
   "source": [
    "# create a simple YAML config for pyss\n",
    "\n",
    "# we first configure the 'Statistics' we want to use\n",
    "# in this eg, we use the Covariance and the KendallTau correlation coefficient\n",
    "\n",
    "# we then configure the 'Reducers' we want to use\n",
    "# in this eg, we use the SingularValues and the Determinant\n",
    "\n",
    "# for each Reducer function, we determine which Statistic to apply it to reduce\n",
    "\n",
    "yaml_str_stat_reduce = \"\"\"\n",
    "Statistics:\n",
    "  pyspoc.statistics.basic:\n",
    "    # Covariance\n",
    "    Covariance:\n",
    "      schemes:\n",
    "        cov:\n",
    "          estimator: EmpiricalCovariance\n",
    "\n",
    "    # Kendall Tau correlation coefficient\n",
    "    KendallTau:\n",
    "      schemes:\n",
    "        sq:\n",
    "          squared: True\n",
    "\n",
    "        standard:\n",
    "          squared: False\n",
    "\n",
    "Reducers:\n",
    "  pyspoc.reducers.basic:\n",
    "    SingularValues:\n",
    "      Statistics:\n",
    "        - pyspoc.statistics.basic.Covariance.cov\n",
    "        - pyspoc.statistics.basic.KendallTau.sq\n",
    "        - pyspoc.statistics.basic.KendallTau.standard\n",
    "      schemes:\n",
    "        three:\n",
    "          num_values: 3\n",
    "\n",
    "    Determinant:\n",
    "      Statistics:\n",
    "        - pyspoc.statistics.basic.Covariance.cov\n",
    "      schemes:\n",
    "        scaled:\n",
    "          scaled: True\n",
    "\n",
    "        non-scaled:\n",
    "          scaled: False\n",
    "\"\"\""
   ]
  },
  {
   "cell_type": "code",
   "execution_count": null,
   "id": "cfd991ec",
   "metadata": {},
   "outputs": [],
   "source": [
    "# copy the randomly generated dataframe\n",
    "my_dataset = df.copy()\n",
    "\n",
    "# set a name for the config\n",
    "my_config_name = \"test_config_yml\""
   ]
  },
  {
   "cell_type": "code",
   "execution_count": null,
   "id": "32df16ba",
   "metadata": {},
   "outputs": [],
   "source": [
    "# create a Config class object\n",
    "cfg = Config.from_yaml(my_config_name, yaml_str_stat_reduce)"
   ]
  },
  {
   "cell_type": "code",
   "execution_count": null,
   "id": "44d62b80",
   "metadata": {},
   "outputs": [],
   "source": [
    "calc = Calculator(my_dataset)"
   ]
  },
  {
   "cell_type": "code",
   "execution_count": null,
   "id": "22416dfa",
   "metadata": {},
   "outputs": [],
   "source": [
    "calc.compute(cfg)"
   ]
  },
  {
   "cell_type": "code",
   "execution_count": null,
   "id": "0caf4777",
   "metadata": {},
   "outputs": [],
   "source": [
    "calc.results.T"
   ]
  }
 ],
 "metadata": {
  "kernelspec": {
   "display_name": "Python (pyspoc)",
   "language": "python",
   "name": "pyspoc_env"
  },
  "language_info": {
   "codemirror_mode": {
    "name": "ipython",
    "version": 3
   },
   "file_extension": ".py",
   "mimetype": "text/x-python",
   "name": "python",
   "nbconvert_exporter": "python",
   "pygments_lexer": "ipython3",
   "version": "3.12.11"
  }
 },
 "nbformat": 4,
 "nbformat_minor": 5
}
