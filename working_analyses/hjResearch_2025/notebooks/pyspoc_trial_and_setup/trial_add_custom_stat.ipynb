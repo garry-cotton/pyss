{
 "cells": [
  {
   "cell_type": "code",
   "execution_count": null,
   "id": "12f8d5db-7404-4a0a-93f8-8d5a732d8efc",
   "metadata": {},
   "outputs": [],
   "source": [
    "# import pyspoc"
   ]
  },
  {
   "cell_type": "code",
   "execution_count": null,
   "id": "19704c2b",
   "metadata": {},
   "outputs": [],
   "source": [
    "from pyspoc import Calculator, Config"
   ]
  },
  {
   "cell_type": "code",
   "execution_count": null,
   "id": "78d5138e",
   "metadata": {},
   "outputs": [],
   "source": [
    "from pathlib import Path\n",
    "import os\n",
    "# Add the parent of the current script's parent to sys.path\n",
    "project_root = Path('./').resolve().parents[1]"
   ]
  },
  {
   "cell_type": "code",
   "execution_count": null,
   "id": "499435ea",
   "metadata": {},
   "outputs": [],
   "source": [
    "# project_root"
   ]
  },
  {
   "cell_type": "code",
   "execution_count": null,
   "id": "bb09b584",
   "metadata": {},
   "outputs": [],
   "source": [
    "new_mod_path = os.path.join(project_root,'summary_stats','mymodule.py')\n",
    "# print(new_mod_path)"
   ]
  },
  {
   "cell_type": "code",
   "execution_count": null,
   "id": "21564f0e",
   "metadata": {},
   "outputs": [],
   "source": [
    "# # Replace with your actual script, exact casing\n",
    "# script = Path(new_mod_path)\n",
    "\n",
    "# # Print it to confirm\n",
    "# print(\"Resolved:\", script)\n",
    "# print(\"Exists:\", script.exists())"
   ]
  },
  {
   "cell_type": "code",
   "execution_count": null,
   "id": "c278f571",
   "metadata": {},
   "outputs": [],
   "source": [
    "import pandas as pd\n",
    "import numpy as np\n",
    "np.random.seed(42)\n",
    "df = pd.DataFrame(np.random.randint(0,100,size=(100, 4)), columns=list('ABCD'))"
   ]
  },
  {
   "cell_type": "code",
   "execution_count": null,
   "id": "b4cc6397",
   "metadata": {},
   "outputs": [],
   "source": [
    "my_dataset = df # this dataset is defined in a previous cell\n",
    "\n",
    "my_config_dict = {'ReducedStatistics':\n",
    " {new_mod_path:\n",
    "  {\"MyNewReducedStatistic\":\n",
    "   {'schemes':\n",
    "    {'scheme_1':{}}}}}}\n",
    "\n",
    "my_config_name = \"new_config\"\n",
    "cfg = Config.from_dict(my_config_name, my_config_dict)"
   ]
  },
  {
   "cell_type": "code",
   "execution_count": null,
   "id": "b0ade569",
   "metadata": {},
   "outputs": [],
   "source": [
    "my_config_yaml = f\"\"\"\n",
    "ReducedStatistics:\n",
    "  {new_mod_path}:\n",
    "    MyNewReducedStatistic:\n",
    "      schemes:\n",
    "        scheme_1:  \n",
    "        scheme_2:\n",
    "        scheme_3: \n",
    "\"\"\"\n",
    "my_config_name = \"new_config\"\n",
    "cfg = Config.from_yaml(my_config_name, my_config_yaml)"
   ]
  },
  {
   "cell_type": "code",
   "execution_count": null,
   "id": "33a2edff",
   "metadata": {},
   "outputs": [],
   "source": [
    "calc = Calculator(my_dataset)\n",
    "calc.compute(cfg)\n",
    "results = calc.results"
   ]
  },
  {
   "cell_type": "code",
   "execution_count": null,
   "id": "ece31882",
   "metadata": {},
   "outputs": [],
   "source": [
    "results"
   ]
  }
 ],
 "metadata": {
  "kernelspec": {
   "display_name": "Python (pyspoc)",
   "language": "python",
   "name": "pyspoc_env"
  },
  "language_info": {
   "codemirror_mode": {
    "name": "ipython",
    "version": 3
   },
   "file_extension": ".py",
   "mimetype": "text/x-python",
   "name": "python",
   "nbconvert_exporter": "python",
   "pygments_lexer": "ipython3",
   "version": "3.12.11"
  }
 },
 "nbformat": 4,
 "nbformat_minor": 5
}
